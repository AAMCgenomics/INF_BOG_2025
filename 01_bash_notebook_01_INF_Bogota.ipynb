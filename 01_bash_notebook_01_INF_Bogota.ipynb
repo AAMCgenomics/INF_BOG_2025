{
 "cells": [
  {
   "cell_type": "markdown",
   "id": "1cce598c-9b31-4db1-9b6f-72f1fe5b55fa",
   "metadata": {},
   "source": [
    "<p style=\"text-align:center\">\n",
    "    <a href=\"https://www.gorgas.gob.pa/\" target=\"_blank\">\n",
    "    <img src=\"./Gorgas_logo_web.png\" width=\"800\" alt=\"Logo  de Gorgas\">\n",
    "    </a>\n",
    "</p>\n",
    "\n",
    "\n",
    "\n",
    "#### Taller en secuenciación genómica y análisis bioinformático para Influenza.\n",
    "##### Dia 3 practica 1.\n",
    "\n",
    "\n"
   ]
  },
  {
   "cell_type": "markdown",
   "id": "2fdc3033-f4ac-408c-b3bb-b5fa7b19f935",
   "metadata": {},
   "source": [
    "## <strong> Introducción a bash un enfoque muy básico <strong>\n",
    "\n",
    "<font size=\"4\"> <p> ¿Cómo ejecutamos un scrip de bash en jupyternotebook? <p> </font>"
   ]
  },
  {
   "cell_type": "markdown",
   "id": "43207ecb-9be0-430f-a588-ddf180b51c67",
   "metadata": {},
   "source": [
    "<hr>\n",
    "<strong><p>Aplicaciones básicas como ls, cd,pwd se pueden ejecutar directamente en una celda de notebook </p> </strong>\n",
    "<hr>"
   ]
  },
  {
   "cell_type": "code",
   "execution_count": 1,
   "id": "e7e5251a-94a1-4f6f-9f52-c4fa361850f3",
   "metadata": {},
   "outputs": [
    {
     "name": "stdout",
     "output_type": "stream",
     "text": [
      "\u001b[0m\u001b[01;32m01_Python_notebook_01.ipynb\u001b[0m*                \u001b[01;32mGorgas_logo.png\u001b[0m*\n",
      "\u001b[01;32m01_Python_notebook_01_slides.ipynb\u001b[0m*         \u001b[01;32mHeader_curso_JICA.png\u001b[0m*\n",
      "\u001b[01;32m01_Python_notebook_01_slides_parte1.ipynb\u001b[0m*  \u001b[01;32mi\u001b[0m*\n",
      "\u001b[01;32m01_Python_notebook_01_slides_parte2.ipynb\u001b[0m*  \u001b[01;32mlistadodesecuencias.txt\u001b[0m*\n",
      "\u001b[01;32m01_R_notebook_01.ipynb\u001b[0m*                     \u001b[01;32mmyscript.sh\u001b[0m*\n",
      "\u001b[01;32m01_writeyourownprogram.ipynb\u001b[0m*               \u001b[01;32mRINO2_blast_hits_prok.tsv\u001b[0m*\n",
      "\u001b[01;32m02_types.ipynb\u001b[0m*                             \u001b[01;32mRINO2_blast_hits.tsv\u001b[0m*\n",
      "\u001b[01;32mblastejemplo.png\u001b[0m*                           \u001b[01;32mtranslated_notebook.ipynb\u001b[0m*\n",
      "\u001b[34;42mdata\u001b[0m/                                       \u001b[01;32mtxt\u001b[0m*\n",
      "\u001b[01;32mEjecutar_bash.ipynb\u001b[0m*                        \u001b[01;32mUntitled.ipynb\u001b[0m*\n"
     ]
    }
   ],
   "source": [
    "ls"
   ]
  },
  {
   "cell_type": "code",
   "execution_count": 2,
   "id": "409774c5-b5e1-4dc0-abeb-6e866f000350",
   "metadata": {},
   "outputs": [
    {
     "data": {
      "text/plain": [
       "'/home/jovyan/databases/coursera/python'"
      ]
     },
     "execution_count": 2,
     "metadata": {},
     "output_type": "execute_result"
    }
   ],
   "source": [
    "pwd"
   ]
  },
  {
   "cell_type": "code",
   "execution_count": 3,
   "id": "48d48cea-c3d3-4e33-b1c5-0ff52ca4f2b4",
   "metadata": {},
   "outputs": [
    {
     "name": "stdout",
     "output_type": "stream",
     "text": [
      "/home/jovyan/databases/coursera/python/data\n"
     ]
    }
   ],
   "source": [
    "cd ./data"
   ]
  },
  {
   "cell_type": "code",
   "execution_count": 4,
   "id": "8c1ce0ca-4aa4-4367-bbe4-22e327cc61bd",
   "metadata": {},
   "outputs": [
    {
     "data": {
      "text/plain": [
       "'/home/jovyan/databases/coursera/python/data'"
      ]
     },
     "execution_count": 4,
     "metadata": {},
     "output_type": "execute_result"
    }
   ],
   "source": [
    "pwd"
   ]
  },
  {
   "cell_type": "code",
   "execution_count": 5,
   "id": "7717bf94-5a66-4065-9df6-a838cbea0832",
   "metadata": {},
   "outputs": [
    {
     "name": "stdout",
     "output_type": "stream",
     "text": [
      "/home/jovyan/databases/coursera/python\n"
     ]
    }
   ],
   "source": [
    "cd .."
   ]
  },
  {
   "cell_type": "code",
   "execution_count": 6,
   "id": "41072f9c-d37b-4efb-8d53-22f63fbffa19",
   "metadata": {},
   "outputs": [
    {
     "data": {
      "text/plain": [
       "'/home/jovyan/databases/coursera/python'"
      ]
     },
     "execution_count": 6,
     "metadata": {},
     "output_type": "execute_result"
    }
   ],
   "source": [
    "pwd"
   ]
  },
  {
   "cell_type": "markdown",
   "id": "90f87149-95b3-4ad2-ab63-364eaf7d4d7a",
   "metadata": {},
   "source": [
    "<strong><font size = \"4\"><p> Realicemos algo más aplicado a nuestro tipo de necesidades </p> </font> </strong>"
   ]
  },
  {
   "cell_type": "markdown",
   "id": "c11cd32b-a227-49b9-9c6d-7fc1ebcc1963",
   "metadata": {},
   "source": [
    "<div class=\"alert alert-success alertsuccess\"> <font size =\"5\"><strong>Aplicaciones</strong> </font> <p> Tenemos un folder lleno de archivos fastq.gz para analizar, ¿Cómo podemos extraer el nombre del archivo usando un token común en su fichero? </p> </div>\n",
    "\n"
   ]
  },
  {
   "cell_type": "markdown",
   "id": "38966007-a443-4f10-b6eb-6c9f4415acce",
   "metadata": {},
   "source": [
    "<font size =\"4\"><p>Bash es es un intérprete de comandos de Unix que actúa como interfaz entre el sistema operativo y los usuarios o programas, como interprete tiene ujna serie de programas básico que permiten interactuar con el sistema. </p> </font>"
   ]
  },
  {
   "cell_type": "markdown",
   "id": "314ab7d2-3888-4290-9041-c8da4d8da66d",
   "metadata": {},
   "source": [
    "<font size=\"4\"> Si necesita ejecutar varios comandos de shell o uno muy largo y complicado, le recomendamos usar el código <code>%%bash</code> al inicio de la celda </font>"
   ]
  },
  {
   "cell_type": "markdown",
   "id": "c0a3b79c-66a1-4ee8-bef0-3670cd37931d",
   "metadata": {},
   "source": [
    "<details><summary>Dale click para obtener una solución</summary>\n",
    "\n",
    "    \n",
    "``` bash\n",
    "dir=\"./data\"\n",
    "for read_1 in $dir/*R1*fastq.gz;\n",
    "do #echo $read_1\n",
    "read_2=${read_1/R1/R2}\n",
    "#echo $read_1\n",
    "#echo $read_2\n",
    "longname=$(basename $read_1)\n",
    "echo $longname\n",
    "c=$(echo $longname | awk -F \"_S\" '{print $1}')\n",
    "#usamos echo para ver si logramos la salida esperada\n",
    "echo $c\n",
    "done\n",
    "```\n",
    "\n",
    "</details>\n",
    "\n"
   ]
  },
  {
   "cell_type": "markdown",
   "id": "bb640ab8-17b9-4956-b073-e0832e5c420a",
   "metadata": {},
   "source": [
    "<div style=\"margin-top: 10px\">\n",
    "<font size = \"4\"> Si usted quisiera crear un folder para cada muestra analizada y luego ubicar esas lecturas obtenidas en un solo folder como lo realizaría? </font>\n",
    "</div>"
   ]
  },
  {
   "cell_type": "markdown",
   "id": "a24b490e-7b8c-489b-9bbd-7a1f51b4e6b2",
   "metadata": {},
   "source": [
    "<hr/>\n",
    "<div class=\"alert alert-success alertsuccess\" style=\"margin-top: 20px\">\n",
    "    [Tip 1:] <code>mkdir</code> Es una aplicación de bash que permite crear folders en la ubicación indicada, siempre y cuanto sea en el directorio de trabajo, o exista el directio parental\n",
    "   <p> [Tip 2:] <code>cp</code> (\"copy\") copia ficheros y directorios. Tras el nombre del comando se indicará el fichero a copiar y la ruta y nombre del nuevo fichero. No permite copiar un fichero sobre sí mismo, aunque sí permite sobrescribir un fichero existente.\n",
    "Si se indica el nombre de dos ficheros, el comando cp copia el primero al segundo. </p>\n",
    "</div>\n",
    "<hr/>"
   ]
  },
  {
   "cell_type": "markdown",
   "id": "cb84a7a7-bbcd-4cc8-87ca-778a71f6a6df",
   "metadata": {},
   "source": [
    "<details><summary>Dale click para obtener una solución</summary>\n",
    "\n",
    "    \n",
    "``` bash\n",
    "dir=\"ubicacion de tus lecturas\"\n",
    "for read_1 in $dir/*R1*fastq.gz;\n",
    "do \n",
    "\n",
    "read_2=${read_1/R1/R2}\n",
    "\n",
    "longname=$(basename $read_1)\n",
    "longname2=$(basename $read_2)\n",
    "\n",
    "\n",
    "c=$(echo $longname | awk -F \"_S\" '{print $1}')\n",
    "echo $longname2\n",
    "mkdir -p $dir/$c\n",
    "cp $read_1 $dir/$c/$longname\n",
    "cp $read_2 $dir/$c/$longname2\n",
    "done\n",
    "```\n",
    "\n",
    "</details>\n"
   ]
  },
  {
   "cell_type": "markdown",
   "id": "fe190f7c-847d-4401-9147-eb79a56fab59",
   "metadata": {},
   "source": [
    "<hr/>\n",
    "<div class=\"alert alert-block alert-info\" style=\"margin-top: 10px\"> \n",
    "  <font size=\"4\"> <strong> <p>Utilizemos un block de texto o notas para crear nuestro programa y hacerlo portable </p> </strong> </font>\n",
    "</div>\n",
    "<hr/>"
   ]
  },
  {
   "cell_type": "markdown",
   "id": "25861857-b528-44e7-8cfa-bf010bbc8d7a",
   "metadata": {},
   "source": [
    "<hr> En este block de notas copiemos el contenido del codigo creado en el paso anterior.\n",
    "<p>Ademas de colocar en la primera linea del documento el siguiente código <code> #/bin/bash </p> </code></hr>\n",
    "<p>Y agregamos la siguiente linea <code> dir=$1 </code> </p>\n",
    "<p> Lo guardamos con el nombre de nuestra preferencia, ej. <b>myscript.sh</b></p>"
   ]
  },
  {
   "cell_type": "markdown",
   "id": "f236d5e3-8138-4f0a-9cae-1bd9200f95f9",
   "metadata": {},
   "source": [
    "<hr>\n",
    "<div class=\"alert alert-success alertsuccess\" style=\"margin-top: 20px\">\n",
    "    [Tip 1:] <code>chmod</code> Es una aplicación de bash que permite cambiar los permisos de acceso a los archivos y de los archivos. para una descripción más detallada seguir el siguiente enlace: \n",
    "    <a href=\"https://www.howtogeek.com/437958/how-to-use-the-chmod-command-on-linux\" target=\"_blank\">how to use the chmod command on linux/</a>\n",
    "\n",
    "</div>\n",
    "</hr>"
   ]
  },
  {
   "cell_type": "code",
   "execution_count": 8,
   "id": "2281012f-7712-461d-a270-aed226cce921",
   "metadata": {},
   "outputs": [],
   "source": [
    "#Con la opción +x se autoriza la ejecución del archivo.\n",
    "!chmod +x ./myscript.sh\n"
   ]
  },
  {
   "cell_type": "code",
   "execution_count": 12,
   "id": "7eab9c63-611b-46ae-84c7-2d11aeb7f874",
   "metadata": {},
   "outputs": [
    {
     "name": "stdout",
     "output_type": "stream",
     "text": [
      "Proceso terminado para lectura Undetermined\n",
      "Proceso terminado para lectura VEE24H\n",
      "El  ./myscript.sh ha terminado su ejecución\n"
     ]
    }
   ],
   "source": [
    "!./myscript.sh /home/jovyan/databases/coursera/python/data \n"
   ]
  },
  {
   "cell_type": "markdown",
   "id": "0265b5d0-0b96-48b6-a9ce-82c9ffc735ec",
   "metadata": {},
   "source": [
    "## Author\n",
    "\n",
    "<a href=\"https://github.com/ICGESGenomica/ICGESGenomica\" target=\"_blank\">Alexander A. Martínez C</a>\n",
    "\n",
    "\n",
    "<font size=\"4\">  <strong> ICGES - Departamento de Investigación en Genómica y proteómica </strong> </font>\n",
    "\n",
    "<font size=\"4\" color = \"blue\" >  <strong> #Somosgenómica </strong> </font>\n",
    "\n",
    "## <h3 align=\"center\">  <h3/>\n"
   ]
  }
 ],
 "metadata": {
  "kernelspec": {
   "display_name": "Python [conda env:root] *",
   "language": "python",
   "name": "conda-root-py"
  },
  "language_info": {
   "codemirror_mode": {
    "name": "ipython",
    "version": 3
   },
   "file_extension": ".py",
   "mimetype": "text/x-python",
   "name": "python",
   "nbconvert_exporter": "python",
   "pygments_lexer": "ipython3",
   "version": "3.9.6"
  }
 },
 "nbformat": 4,
 "nbformat_minor": 5
}
