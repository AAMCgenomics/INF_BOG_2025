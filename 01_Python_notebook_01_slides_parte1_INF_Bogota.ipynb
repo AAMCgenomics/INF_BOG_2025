{
 "cells": [
  {
   "cell_type": "markdown",
   "id": "24c9f146-0dca-4104-9526-1cb85aedd36a",
   "metadata": {
    "slideshow": {
     "slide_type": "slide"
    },
    "tags": []
   },
   "source": [
    "<p style=\"text-align:center\">\n",
    "    <a href=\"https://www.gorgas.gob.pa/\" target=\"_blank\">\n",
    "    <img src=\"https://i.ibb.co/5Wbf1GS0/Gorgas-logo-web.png\"   alt=\"Logo  de Gorgas\">\n",
    "    </a>\n",
    "</p>\n",
    "\n",
    "\n",
    "\n",
    "#### Taller en secuenciación genómica y análisis bioinformático para Influenza.\n",
    "##### Dia 3 practica 2.\n"
   ]
  },
  {
   "cell_type": "markdown",
   "id": "2ef08fb9-5fc8-4535-b26d-d28e9ea77380",
   "metadata": {
    "slideshow": {
     "slide_type": "subslide"
    },
    "tags": []
   },
   "source": [
    "\n",
    "<strong> Introducción a python un enfoque muy básico <strong>\n",
    "\n",
    "# ¿Cómo python maneja los datos o entradas?\n"
   ]
  },
  {
   "cell_type": "markdown",
   "id": "f22318b8-7ed1-407f-b76b-0de2a20d12b9",
   "metadata": {
    "slideshow": {
     "slide_type": "subslide"
    },
    "tags": []
   },
   "source": [
    "### Tipos de objetos en Python\n",
    "\n",
    "<p>Python es un lenguaje orientado a objetos. Hay muchos tipos diferentes de objetos en Python. Empecemos con los tipos de objetos más comunes: <i>cadenas</i>, <i>enteros</i> y <i>flotantes</i>. Cada vez que escribes palabras (texto) en Python, estás usando <i>cadenas de caracteres</i> (cadenas para abreviar). Los números más comunes, por otro lado, son los <i>enteros</i> (por ejemplo, -1, 0, 100) y los <i>flotantes</i>, que representan números reales (por ejemplo, 3.14, -42.0).</p>\n"
   ]
  },
  {
   "cell_type": "markdown",
   "id": "605efbf2-d74d-4caf-835a-1d4ba78ec5d9",
   "metadata": {
    "slideshow": {
     "slide_type": "fragment"
    },
    "tags": []
   },
   "source": [
    "<a align=\"center\">\n",
    "    <img src=\"https://cf-courses-data.s3.us.cloud-object-storage.appdomain.cloud/IBMDeveloperSkillsNetwork-PY0101EN-SkillsNetwork/labs/Module%201/images/TypesObjects.png\" width=\"600\">\n",
    "</a>\n"
   ]
  },
  {
   "cell_type": "markdown",
   "id": "bfccb3ea-8cb5-4c43-8ebe-1732c0d3a270",
   "metadata": {
    "slideshow": {
     "slide_type": "slide"
    },
    "tags": []
   },
   "source": [
    "<p> <strong>1.1 Comencemos asignando el valor de 10 a una variable x </strong> <p>"
   ]
  },
  {
   "cell_type": "code",
   "execution_count": 1,
   "id": "ba2b16e0-bbcf-4c16-963e-db947279b87e",
   "metadata": {
    "slideshow": {
     "slide_type": "fragment"
    },
    "tags": []
   },
   "outputs": [],
   "source": [
    "x = 10"
   ]
  },
  {
   "cell_type": "markdown",
   "id": "dacc43eb-ebb2-4e2d-9d6c-4f92235f3b87",
   "metadata": {
    "slideshow": {
     "slide_type": "fragment"
    },
    "tags": []
   },
   "source": [
    "<p> <strong> 2. Veriquemos su valor ejecutando la variable (objeto) creado </strong> <p>"
   ]
  },
  {
   "cell_type": "code",
   "execution_count": 2,
   "id": "eb801771-6956-4f68-b81d-663aa66ca046",
   "metadata": {
    "slideshow": {
     "slide_type": "fragment"
    },
    "tags": []
   },
   "outputs": [
    {
     "data": {
      "text/plain": [
       "10"
      ]
     },
     "execution_count": 2,
     "metadata": {},
     "output_type": "execute_result"
    }
   ],
   "source": [
    "x"
   ]
  },
  {
   "cell_type": "markdown",
   "id": "7bb89ef5-9198-48dc-b42b-5104d5dc6167",
   "metadata": {
    "slideshow": {
     "slide_type": "slide"
    },
    "tags": []
   },
   "source": [
    "<p> <strong>  3. Realizemos algunas operaciones matemáticas o booleanas </strong> <p>"
   ]
  },
  {
   "cell_type": "code",
   "execution_count": 3,
   "id": "c840662e-b255-4fd9-a0fc-2427f494f407",
   "metadata": {
    "slideshow": {
     "slide_type": "fragment"
    },
    "tags": []
   },
   "outputs": [
    {
     "data": {
      "text/plain": [
       "True"
      ]
     },
     "execution_count": 3,
     "metadata": {},
     "output_type": "execute_result"
    }
   ],
   "source": [
    "x == 10"
   ]
  },
  {
   "cell_type": "code",
   "execution_count": 4,
   "id": "be9eff70-a6e3-416e-8230-aa35dd1e2ab3",
   "metadata": {
    "slideshow": {
     "slide_type": "fragment"
    },
    "tags": []
   },
   "outputs": [
    {
     "data": {
      "text/plain": [
       "False"
      ]
     },
     "execution_count": 4,
     "metadata": {},
     "output_type": "execute_result"
    }
   ],
   "source": [
    "x >5 \n",
    "x < 5\n",
    "\n"
   ]
  },
  {
   "cell_type": "markdown",
   "id": "e57a8d66-cb2f-4ce7-93cc-889198e7c9ee",
   "metadata": {
    "slideshow": {
     "slide_type": "slide"
    },
    "tags": []
   },
   "source": [
    "<p> <strong>  4. tuplas en python </strong> <p>"
   ]
  },
  {
   "cell_type": "code",
   "execution_count": 5,
   "id": "59730b39-e9f6-4221-88c0-5c9c26657330",
   "metadata": {
    "slideshow": {
     "slide_type": "fragment"
    },
    "tags": []
   },
   "outputs": [],
   "source": [
    "z = (1,2,3,4,5)\n"
   ]
  },
  {
   "cell_type": "code",
   "execution_count": 6,
   "id": "270b7c15-f572-4b22-adad-b4d28e9274b2",
   "metadata": {
    "slideshow": {
     "slide_type": "fragment"
    },
    "tags": []
   },
   "outputs": [
    {
     "name": "stdout",
     "output_type": "stream",
     "text": [
      "<class 'tuple'>\n"
     ]
    }
   ],
   "source": [
    "cake = ('c','a','k','e')\n",
    "print(type(cake))"
   ]
  },
  {
   "cell_type": "code",
   "execution_count": 7,
   "id": "5cbbd084-d331-494c-9730-d52ffdfd672e",
   "metadata": {
    "slideshow": {
     "slide_type": "subslide"
    },
    "tags": []
   },
   "outputs": [
    {
     "name": "stdout",
     "output_type": "stream",
     "text": [
      "C : <class 'str'>\n",
      "0 : <class 'int'>\n",
      "0 : <class 'int'>\n",
      "K : <class 'str'>\n",
      "I : <class 'str'>\n",
      "E : <class 'str'>\n"
     ]
    }
   ],
   "source": [
    "mixed_type = ('C',0,0,'K','I','E')\n",
    "\n",
    "for i in mixed_type:\n",
    "    print(i,\":\",type(i))\n"
   ]
  },
  {
   "cell_type": "code",
   "execution_count": 8,
   "id": "07cf83f7-90a4-429c-9431-d81c8435e470",
   "metadata": {
    "slideshow": {
     "slide_type": "fragment"
    },
    "tags": []
   },
   "outputs": [
    {
     "ename": "TypeError",
     "evalue": "'tuple' object does not support item assignment",
     "output_type": "error",
     "traceback": [
      "\u001b[0;31m---------------------------------------------------------------------------\u001b[0m",
      "\u001b[0;31mTypeError\u001b[0m                                 Traceback (most recent call last)",
      "\u001b[0;32m/tmp/ipykernel_16950/335508042.py\u001b[0m in \u001b[0;36m<module>\u001b[0;34m\u001b[0m\n\u001b[1;32m      1\u001b[0m \u001b[0;31m# Trate de cambiar 0 a 'O'\u001b[0m\u001b[0;34m\u001b[0m\u001b[0;34m\u001b[0m\u001b[0;34m\u001b[0m\u001b[0m\n\u001b[0;32m----> 2\u001b[0;31m \u001b[0mmixed_type\u001b[0m\u001b[0;34m[\u001b[0m\u001b[0;36m1\u001b[0m\u001b[0;34m]\u001b[0m \u001b[0;34m=\u001b[0m \u001b[0;34m'O'\u001b[0m\u001b[0;34m\u001b[0m\u001b[0;34m\u001b[0m\u001b[0m\n\u001b[0m",
      "\u001b[0;31mTypeError\u001b[0m: 'tuple' object does not support item assignment"
     ]
    }
   ],
   "source": [
    "# Trate de cambiar 0 a 'O'\n",
    "mixed_type[1] = 'O'\n"
   ]
  },
  {
   "cell_type": "code",
   "execution_count": 9,
   "id": "6e49027a-0c78-4d0b-aedf-d2b280887bae",
   "metadata": {
    "slideshow": {
     "slide_type": "subslide"
    },
    "tags": []
   },
   "outputs": [
    {
     "name": "stdout",
     "output_type": "stream",
     "text": [
      "<class 'tuple'>\n"
     ]
    }
   ],
   "source": [
    "#Otra forma de crear un tuple numérico\n",
    "numbers_tuple = 1,2,3,4,5\n",
    "print(type(numbers_tuple))\n"
   ]
  },
  {
   "cell_type": "markdown",
   "id": "4e07fc0b-501c-4e9b-b12f-3f05c03c5c86",
   "metadata": {
    "slideshow": {
     "slide_type": "slide"
    },
    "tags": []
   },
   "source": [
    "<p> <strong>  5. Trabajemos con listados en python </strong> <p>"
   ]
  },
  {
   "cell_type": "code",
   "execution_count": 10,
   "id": "e6a5a365-56cb-4f53-a4f7-2897cd7dd422",
   "metadata": {
    "slideshow": {
     "slide_type": "fragment"
    },
    "tags": []
   },
   "outputs": [
    {
     "name": "stdout",
     "output_type": "stream",
     "text": [
      "([1, 2, 3, 4, 5], ['a', 'b'])\n"
     ]
    },
    {
     "data": {
      "text/plain": [
       "[1, 2, 3, 4, 5]"
      ]
     },
     "execution_count": 10,
     "metadata": {},
     "output_type": "execute_result"
    }
   ],
   "source": [
    "x = [1,2,3,4,5]\n",
    "y = ['a', 'b']\n",
    "\n",
    "l = x  ,  y\n",
    "print(l)\n",
    "l[0]"
   ]
  },
  {
   "cell_type": "code",
   "execution_count": 11,
   "id": "ec899792-e1c6-4bd0-8054-789f4d6d502a",
   "metadata": {
    "slideshow": {
     "slide_type": "subslide"
    },
    "tags": []
   },
   "outputs": [],
   "source": [
    "# Area variables (in square meters)\n",
    "hall = 11.25\n",
    "kit = 18.0\n",
    "liv = 20.0\n",
    "bed = 10.75\n",
    "bath = 9.50\n",
    "\n"
   ]
  },
  {
   "cell_type": "code",
   "execution_count": 12,
   "id": "4f309b3f-99d3-4823-b20b-e07097b8bc37",
   "metadata": {
    "slideshow": {
     "slide_type": "fragment"
    },
    "tags": []
   },
   "outputs": [
    {
     "name": "stdout",
     "output_type": "stream",
     "text": [
      "[11.25, 18.0, 20.0, 10.75, 9.5]\n"
     ]
    }
   ],
   "source": [
    "# Create list areas\n",
    "areas = [hall, kit, liv, bed, bath]\n",
    "\n",
    "# Print areas\n",
    "print(areas)\n"
   ]
  },
  {
   "cell_type": "markdown",
   "id": "29a0f0e1-683a-4ed6-9a51-5d66e200e45c",
   "metadata": {
    "slideshow": {
     "slide_type": "slide"
    },
    "tags": []
   },
   "source": [
    "<strong>tupla vs lista </strong>"
   ]
  },
  {
   "cell_type": "code",
   "execution_count": 13,
   "id": "c9bc62a4-89bf-479a-a84e-59ad5182ce6f",
   "metadata": {
    "slideshow": {
     "slide_type": "fragment"
    },
    "tags": []
   },
   "outputs": [
    {
     "ename": "AttributeError",
     "evalue": "'tuple' object has no attribute 'append'",
     "output_type": "error",
     "traceback": [
      "\u001b[0;31m---------------------------------------------------------------------------\u001b[0m",
      "\u001b[0;31mAttributeError\u001b[0m                            Traceback (most recent call last)",
      "\u001b[0;32m/tmp/ipykernel_16950/3885254835.py\u001b[0m in \u001b[0;36m<module>\u001b[0;34m\u001b[0m\n\u001b[1;32m      3\u001b[0m \u001b[0;34m\u001b[0m\u001b[0m\n\u001b[1;32m      4\u001b[0m \u001b[0;31m# Append a number to the tuple\u001b[0m\u001b[0;34m\u001b[0m\u001b[0;34m\u001b[0m\u001b[0;34m\u001b[0m\u001b[0m\n\u001b[0;32m----> 5\u001b[0;31m \u001b[0mnumbers_tuple\u001b[0m\u001b[0;34m.\u001b[0m\u001b[0mappend\u001b[0m\u001b[0;34m(\u001b[0m\u001b[0;36m6\u001b[0m\u001b[0;34m)\u001b[0m\u001b[0;34m\u001b[0m\u001b[0;34m\u001b[0m\u001b[0m\n\u001b[0m",
      "\u001b[0;31mAttributeError\u001b[0m: 'tuple' object has no attribute 'append'"
     ]
    }
   ],
   "source": [
    "x_tuple = (1,2,3,4,5)\n",
    "x_list = [1,2,3,4,5]\n",
    "\n",
    "# Append a number to the tuple\n",
    "numbers_tuple.append(6)"
   ]
  },
  {
   "cell_type": "code",
   "execution_count": 14,
   "id": "e8a60c4a-90ff-4f22-837c-bcc7b3401403",
   "metadata": {
    "slideshow": {
     "slide_type": "subslide"
    },
    "tags": []
   },
   "outputs": [
    {
     "name": "stdout",
     "output_type": "stream",
     "text": [
      "[1, 2, 3, 4, 5, 6, 7, 8]\n",
      "[1, 2, 3, 4, 5, 6, 8]\n"
     ]
    }
   ],
   "source": [
    "# Append numbers to the list\n",
    "x_list.append(6)\n",
    "x_list.append(7)\n",
    "x_list.append(8)\n",
    "print(x_list)\n",
    "# Remove a number from the list\n",
    "x_list.remove(7)\n",
    "print(x_list)\n"
   ]
  },
  {
   "cell_type": "markdown",
   "id": "13f52547-e180-4dfa-af48-7828f4b71fc9",
   "metadata": {
    "slideshow": {
     "slide_type": "slide"
    },
    "tags": []
   },
   "source": [
    "<p> <strong>  6. Vamos a trabajar con algo mas real </strong> <p>"
   ]
  },
  {
   "cell_type": "markdown",
   "id": "d81b0dc8-566b-460d-8540-92ec6548e20e",
   "metadata": {
    "slideshow": {
     "slide_type": "fragment"
    },
    "tags": []
   },
   "source": [
    "<p> <strong> Podemos asignar a un objeto llamado <code> dir </code> la dirección de mis lecturas <strong> <p>"
   ]
  },
  {
   "cell_type": "code",
   "execution_count": 15,
   "id": "0e9e3ba0-d952-4c51-88db-2473a4a64987",
   "metadata": {
    "slideshow": {
     "slide_type": "fragment"
    },
    "tags": []
   },
   "outputs": [],
   "source": [
    "dir = \"/home/jovyan/databases/coursera/python/data/\""
   ]
  },
  {
   "cell_type": "code",
   "execution_count": 16,
   "id": "7ffea7b0-c0e4-4160-846d-de5da3844e17",
   "metadata": {
    "slideshow": {
     "slide_type": "fragment"
    },
    "tags": []
   },
   "outputs": [
    {
     "data": {
      "text/plain": [
       "'/home/jovyan/databases/coursera/python/data/'"
      ]
     },
     "execution_count": 16,
     "metadata": {},
     "output_type": "execute_result"
    }
   ],
   "source": [
    "dir"
   ]
  },
  {
   "cell_type": "markdown",
   "id": "853df54b-32ca-4c17-8472-0c6844d4badc",
   "metadata": {
    "slideshow": {
     "slide_type": "slide"
    },
    "tags": []
   },
   "source": [
    "<strong>Antes de seguir debemos conversar de los modulos en python \n",
    "    <p>¿Qué es un módulo? <p> <strong>\n"
   ]
  },
  {
   "cell_type": "markdown",
   "id": "8d1c65a7-ff74-4ad2-91dc-6eefe5796691",
   "metadata": {
    "slideshow": {
     "slide_type": "fragment"
    },
    "tags": []
   },
   "source": [
    "Considere que un módulo es lo mismo que una biblioteca de códigos.\n",
    "\n",
    "Un archivo que contiene un conjunto de funciones que desea incluir en su aplicación.\n",
    "se importa con la llamada <code> import ... </code>\n",
    "Ahora importemos <code> glob </code>"
   ]
  },
  {
   "cell_type": "code",
   "execution_count": 17,
   "id": "8a295500-a756-43ac-a505-de4c0d586341",
   "metadata": {
    "slideshow": {
     "slide_type": "fragment"
    },
    "tags": []
   },
   "outputs": [
    {
     "name": "stdout",
     "output_type": "stream",
     "text": [
      "success importing globe\n"
     ]
    }
   ],
   "source": [
    "import glob\n",
    "print(\"success importing globe\" )"
   ]
  },
  {
   "cell_type": "markdown",
   "id": "4e0e9d72-9459-462a-a42f-663c9ef8547f",
   "metadata": {
    "slideshow": {
     "slide_type": "slide"
    },
    "tags": []
   },
   "source": [
    "<b><p> Usemos glob para importar un listado de direcciones donde estan ubicadas mis lecturas.</p> <b>"
   ]
  },
  {
   "cell_type": "code",
   "execution_count": 18,
   "id": "25325ba5-a669-49dd-b8cd-def688787b75",
   "metadata": {
    "slideshow": {
     "slide_type": "subslide"
    },
    "tags": []
   },
   "outputs": [
    {
     "name": "stdout",
     "output_type": "stream",
     "text": [
      "['/home/jovyan/databases/coursera/python/data/VEE24H_S10_L001_R1_001.fastq.gz', '/home/jovyan/databases/coursera/python/data/Undetermined_S0_L001_R1_001.fastq.gz']\n"
     ]
    }
   ],
   "source": [
    "path=glob.glob(dir + '*R1*.fastq.gz')\n",
    "print(path)"
   ]
  },
  {
   "cell_type": "markdown",
   "id": "6deed7a7-8c0a-4509-bb5c-d0242d0fe0df",
   "metadata": {
    "slideshow": {
     "slide_type": "fragment"
    },
    "tags": []
   },
   "source": [
    "<p> Como podemos ver python nos ha proporcionado un listado de las lecturas en el directorio indicado <p> \n",
    "Ahora, <strong>¿Cómo podemos acceder a cada archivo individual?"
   ]
  },
  {
   "cell_type": "markdown",
   "id": "3158573f-2010-4479-abf9-9b26b93bb896",
   "metadata": {
    "slideshow": {
     "slide_type": "slide"
    },
    "tags": []
   },
   "source": [
    "<hr/>\n",
    "<div class=\"alert alert-block alert-info\" style=\"margin-top: 10px\"> \n",
    "  <font size=\"4\"> <strong> <p>Ahora utilicemos unos loops con el formato de python</p> </strong> </font>\n",
    "</div>\n",
    "<hr/>"
   ]
  },
  {
   "cell_type": "code",
   "execution_count": 19,
   "id": "46d8f1e1-8114-4a3e-8097-2e372081ab04",
   "metadata": {
    "slideshow": {
     "slide_type": "fragment"
    },
    "tags": []
   },
   "outputs": [
    {
     "name": "stdout",
     "output_type": "stream",
     "text": [
      "-r1 /home/jovyan/databases/coursera/python/data/VEE24H_S10_L001_R1_001.fastq.gz\n",
      "-r1 /home/jovyan/databases/coursera/python/data/Undetermined_S0_L001_R1_001.fastq.gz\n"
     ]
    }
   ],
   "source": [
    "for read in path:\n",
    "    print(\"-r1 \"+ read)"
   ]
  },
  {
   "cell_type": "markdown",
   "id": "2b9f2c4d-30cd-4ab1-9a46-850772758dcd",
   "metadata": {
    "slideshow": {
     "slide_type": "fragment"
    },
    "tags": []
   },
   "source": [
    "<strong> Si usted quisiera crear una entrada para spades que requiere que se señale el R1 con <code> -1  </code> y el R2 con <code> -2 </code> ¿Cómo generaria esa salida en un loop de python? </strong>"
   ]
  },
  {
   "cell_type": "markdown",
   "id": "8217bbfe-c281-49f5-9dbd-888f29171993",
   "metadata": {
    "slideshow": {
     "slide_type": "fragment"
    },
    "tags": []
   },
   "source": [
    "<hr/>\n",
    "<div class=\"alert alert-success alertsuccess\" style=\"margin-top: 20px\">\n",
    "    [Tip:] <code>print()</code> es una función. Se puede pasar un texto (string) <code>-1</code> como un argumento y puede sumarle tanto strings como se requiera.\n",
    "</div>\n",
    "<hr/>"
   ]
  },
  {
   "cell_type": "markdown",
   "id": "09217149-7651-4ad3-b0b8-fb4596abe2d6",
   "metadata": {
    "slideshow": {
     "slide_type": "fragment"
    },
    "tags": []
   },
   "source": [
    "<details><summary>Dale click para obtener una solución</summary>\n",
    "\n",
    "    \n",
    "``` python\n",
    "#Crear un loop para cada lectura  read1 y read2   \n",
    "for read in path:\n",
    "    print(\"spades.py -1 \"+ read1 \"-2\" + read2)  # imprime un string con las lecturas a utilizar\n",
    "```\n",
    "\n",
    "</details>\n"
   ]
  },
  {
   "cell_type": "markdown",
   "id": "43bad45e-c7cc-4c77-b21e-5d379ff204d5",
   "metadata": {
    "slideshow": {
     "slide_type": "skip"
    },
    "tags": []
   },
   "source": [
    "## Introducción a análisis de datos ##"
   ]
  },
  {
   "cell_type": "markdown",
   "id": "d6f89c33-bcc3-46ba-9a35-adb3a2d9ba63",
   "metadata": {
    "slideshow": {
     "slide_type": "skip"
    },
    "tags": []
   },
   "source": [
    "<p> Tanto python como R son lenguajes enfocados en análisis de datos. Para nuestro interés bioinformático estos <strong> datos </strong>\n",
    "<p> generalmente son las salidas obtenidas de los análisis de programas especializados como blast, samtools, vcf entre otros <p>"
   ]
  },
  {
   "cell_type": "markdown",
   "id": "32083b4a-1d23-4333-8c38-b102bf6e2023",
   "metadata": {
    "slideshow": {
     "slide_type": "skip"
    },
    "tags": []
   },
   "source": [
    "### Ejemplo: En un análisis de Herramienta básica de búsqueda de alineación local (BLAST) produce generalmente una salida como la siguiente:\n",
    "\n",
    "   "
   ]
  },
  {
   "cell_type": "markdown",
   "id": "f0a8faf3-a298-4dc8-9453-263f5ce7c486",
   "metadata": {
    "slideshow": {
     "slide_type": "skip"
    },
    "tags": []
   },
   "source": [
    "\n",
    "<a align=\"center\">\n",
    "    <img src=\"https://i.ibb.co/VNxsVLG/blastejemplo.png\" width=800\">\n",
    "</a>\n",
    "        "
   ]
  },
  {
   "cell_type": "markdown",
   "id": "553497db-fd58-4709-9fb2-6f5778b77134",
   "metadata": {
    "slideshow": {
     "slide_type": "skip"
    },
    "tags": []
   },
   "source": [
    "                                  \n",
    "                                           \n",
    "Se trata de una tabla delimitada por tabulaciones con uin listado de ID, número de accesos (GenBank) y otras estadisticas relevante\n",
    "                                             <p> <strong> ¿Cómo podemos convertir esta información en algo más gráfico? </strong> <p>"
   ]
  },
  {
   "cell_type": "markdown",
   "id": "cb7e022b-a71d-4cb5-9583-b488a336d5c6",
   "metadata": {
    "slideshow": {
     "slide_type": "skip"
    },
    "tags": []
   },
   "source": [
    "### En python seguiremos el siguiente ejemplo:"
   ]
  },
  {
   "cell_type": "markdown",
   "id": "e34bbb34-f5b7-461d-8df5-b23e203e2569",
   "metadata": {
    "slideshow": {
     "slide_type": "skip"
    },
    "tags": []
   },
   "source": [
    "<hr/>\n",
    "<div class=\"alert alert-success alertsuccess\" style=\"margin-top: 2px\">\n",
    "    [Cargar módulos:] <code>  import .. as .. </code> es el mecanismo que utiliza python para acceder a diferente modulos (codigos de python) creados para ejecutar tareas específicas. En este ejemplo vamos a cargar <strong>numpy</strong> , <strong>pandas</strong> y <strong> matplotlib.pyplot </strong> Para una mejor descripción de cada uno de los módulos siga los siguientes enlaces:\n",
    "</div>\n",
    "\n",
    "### pandas\n",
    "\n",
    "<a href=\"https://pandas.pydata.org/\" target=\"_blank\">https://pandas.pydata.org/</a>\n",
    "\n",
    "### numpy\n",
    "\n",
    "<a href=\"https://numpy.org/\" target=\"_blank\">https://numpy.org/</a>\n",
    "\n",
    "### matplotlib\n",
    "\n",
    "<a href=\"https://matplotlib.org/\" target=\"_blank\">https://matplotlib.org/</a>\n",
    "\n",
    "\n",
    "<hr/>"
   ]
  },
  {
   "cell_type": "code",
   "execution_count": 20,
   "id": "2822b8b6-5a6f-4ebc-8e72-14b9f9001578",
   "metadata": {
    "slideshow": {
     "slide_type": "skip"
    },
    "tags": []
   },
   "outputs": [],
   "source": [
    "import numpy as np\n",
    "import pandas as pd\n",
    "import matplotlib.pyplot as plt\n",
    "%matplotlib inline"
   ]
  },
  {
   "cell_type": "code",
   "execution_count": 21,
   "id": "f875bb03-f73d-449d-bb7b-117384f1f4f4",
   "metadata": {
    "slideshow": {
     "slide_type": "skip"
    },
    "tags": []
   },
   "outputs": [],
   "source": [
    "file_path=\"./RINO2_blast_hits.tsv\""
   ]
  },
  {
   "cell_type": "code",
   "execution_count": 22,
   "id": "f35f845e-c90c-4d9d-8aec-f8b55f31860e",
   "metadata": {
    "slideshow": {
     "slide_type": "skip"
    },
    "tags": []
   },
   "outputs": [
    {
     "name": "stdout",
     "output_type": "stream",
     "text": [
      "                             qseqid      sacc  pident  length  mismatch  \\\n",
      "0  NODE_1_length_2122_cov_17.810526  KM209255  85.363    1995       251   \n",
      "1  NODE_2_length_1428_cov_22.654881  KM209255  86.067    1012       123   \n",
      "2  NODE_2_length_1428_cov_22.654881  KM209255  82.123     537        84   \n",
      "3  NODE_2_length_1428_cov_22.654881  KM209255  95.522      67         3   \n",
      "4   NODE_3_length_1140_cov_4.167818  KY369890  97.975    1136        23   \n",
      "\n",
      "          evalue  bitscore                                             stitle  \n",
      "0   0.000000e+00    2028.0  Dickeya phage phiDP10.3 clone pD10.contig.26_1...  \n",
      "1   0.000000e+00    1072.0  Dickeya phage phiDP10.3 clone pD10.contig.26_1...  \n",
      "2  1.290000e-121     449.0  Dickeya phage phiDP10.3 clone pD10.contig.26_1...  \n",
      "3   8.940000e-19     108.0  Dickeya phage phiDP10.3 clone pD10.contig.26_1...  \n",
      "4   0.000000e+00    1971.0       Rhinovirus A47 strain SC122, complete genome  \n"
     ]
    }
   ],
   "source": [
    "df = pd.read_csv(file_path, sep=\"\\t\")\n",
    "print(df.head())"
   ]
  },
  {
   "cell_type": "code",
   "execution_count": 23,
   "id": "21b80e6a-a2c2-4553-935a-b884d3d2fe4f",
   "metadata": {
    "slideshow": {
     "slide_type": "skip"
    },
    "tags": []
   },
   "outputs": [
    {
     "data": {
      "text/plain": [
       "<AxesSubplot:title={'center':'pident'}, xlabel='stitle'>"
      ]
     },
     "execution_count": 23,
     "metadata": {},
     "output_type": "execute_result"
    },
    {
     "data": {
      "image/png": "[encoded data removed]",
      "text/plain": [
       "<Figure size 432x288 with 1 Axes>"
      ]
     },
     "metadata": {
      "needs_background": "light"
     },
     "output_type": "display_data"
    }
   ],
   "source": [
    "df.boxplot(column=\"pident\", by =\"stitle\",grid=False, rot=90, fontsize=15)"
   ]
  },
  {
   "cell_type": "markdown",
   "id": "e66fc09d-70c1-4da1-84a9-92b4501c61bc",
   "metadata": {
    "slideshow": {
     "slide_type": "skip"
    },
    "tags": []
   },
   "source": [
    "<div class=\"alert alert-block alert-info\"> \n",
    "<b>Actividades de autoaprendizaje</b> <p>Para estas actividades le invitamos a ubicar una gráfica de su preferencia dentro del catálogo de: </p><a href=\"https://www.data-to-viz.com/ \" target=\"_blank\">https://www.data-to-viz.com/ </a>\n",
    "    <p> Especificamente el catálogo de ejemplo de gráficas para python está en el siguiente enlace: <p> <a href=\"https://python-graph-gallery.com/ \" target=\"_blank\">https://python-graph-gallery.com/ </a> </p></p>\n",
    "</div>\n",
    "\n",
    "<b> Una vez ubicada una (o varias) gráfica de su preferencia intente ejecutarla su notebook, revise que tipo de data necesita y como podría adecuarse a sus intereses. </b>\n",
    "<p> También dentro de sus archivos va a encontrar una tabla con datos generados en una corrida reciente de NGS, como podría generar una gráfica de covertura con python? </p>\n",
    "<div class=\"alert alert-block alert-warning\">  <p>Tiene alguna tabla que desee graficar, cargela al servidor y explore las posibilidades. </p> </div>"
   ]
  },
  {
   "cell_type": "markdown",
   "id": "23376550-c026-426e-add2-f1e97abc18d3",
   "metadata": {
    "slideshow": {
     "slide_type": "slide"
    },
    "tags": []
   },
   "source": [
    "## Author\n",
    "\n",
    "<a href=\"https://github.com/ICGESGenomica/ICGESGenomica\" target=\"_blank\">Alexander A. Martínez C</a>\n",
    "\n",
    "\n",
    "<font size=\"4\">  <strong> ICGES - Departamento de Investigación en Genómica y proteómica </strong> </font>\n",
    "\n",
    "<font size=\"4\" color = \"blue\" >  <strong> #Somosgenómica </strong> </font>\n",
    "\n",
    "## <h3 align=\"center\">  <h3/>\n"
   ]
  }
 ],
 "metadata": {
  "kernelspec": {
   "display_name": "Python 3 (ipykernel)",
   "language": "python",
   "name": "python3"
  },
  "language_info": {
   "codemirror_mode": {
    "name": "ipython",
    "version": 3
   },
   "file_extension": ".py",
   "mimetype": "text/x-python",
   "name": "python",
   "nbconvert_exporter": "python",
   "pygments_lexer": "ipython3",
   "version": "3.9.6"
  }
 },
 "nbformat": 4,
 "nbformat_minor": 5
}
