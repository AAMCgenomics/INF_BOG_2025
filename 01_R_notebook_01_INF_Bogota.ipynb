{
 "cells": [
  {
   "cell_type": "markdown",
   "id": "2a405214-d974-47b1-9f77-bea369088fa2",
   "metadata": {},
   "source": [
    "<p style=\"text-align:center\">\n",
    "    <a href=\"https://www.gorgas.gob.pa/\" target=\"_blank\">\n",
    "    <img src=\"https://i.ibb.co/5Wbf1GS0/Gorgas-logo-web.png\" width=\"800\" alt=\"Logo  de Gorgas\">\n",
    "    </a>\n",
    "</p>\n",
    "\n",
    "\n",
    "\n",
    "#### Taller en secuenciación genómica y análisis bioinformático para Influenza.\n",
    "##### Dia 3 practica 2.\n",
    "\n",
    "\n",
    "<strong> Introducción a  R un enfoque muy básico <strong>\n",
    "\n",
    "### ¿Cómo R maneja los datos o entradas?\n"
   ]
  },
  {
   "cell_type": "markdown",
   "id": "c94e49f5-7c7f-4a46-a37f-24c704a5bfed",
   "metadata": {},
   "source": [
    "<p> <strong>1.1 Comencemos asignando el valor de 10 a una variable x </strong> <p>"
   ]
  },
  {
   "cell_type": "code",
   "execution_count": 1,
   "id": "bbed8a48-7bbb-4ebb-a49e-692733847167",
   "metadata": {},
   "outputs": [],
   "source": [
    "x = 10"
   ]
  },
  {
   "cell_type": "markdown",
   "id": "213fb9ea-b6f5-4289-8da7-4fd4071e66fe",
   "metadata": {},
   "source": [
    "<p> <strong> 1.2 Otra forma de asignar valor a x  </strong> <p>"
   ]
  },
  {
   "cell_type": "code",
   "execution_count": 2,
   "id": "6c39d595-368a-4f63-8531-882f1d74082c",
   "metadata": {},
   "outputs": [],
   "source": [
    "x <- 10"
   ]
  },
  {
   "cell_type": "markdown",
   "id": "dfd582cf-b905-44fb-ad7d-f10ee0243113",
   "metadata": {},
   "source": [
    "<p> <strong> 2. Veriquemos su valor ejecutando la variable (objeto) creado </strong> <p>"
   ]
  },
  {
   "cell_type": "code",
   "execution_count": 3,
   "id": "e667d5bc-f4c3-4e64-98f6-7e65ac649cdd",
   "metadata": {},
   "outputs": [
    {
     "data": {
      "text/html": [
       "10"
      ],
      "text/latex": [
       "10"
      ],
      "text/markdown": [
       "10"
      ],
      "text/plain": [
       "[1] 10"
      ]
     },
     "metadata": {},
     "output_type": "display_data"
    }
   ],
   "source": [
    "x"
   ]
  },
  {
   "cell_type": "markdown",
   "id": "1f8e58d7-af67-4ba5-9df6-d4b4b86769d5",
   "metadata": {},
   "source": [
    "<p> <strong>  3. Realizemos algunas operaciones matemáticas o booleanas </strong> <p>"
   ]
  },
  {
   "cell_type": "code",
   "execution_count": 4,
   "id": "ab818bc2-a157-49cc-9f70-0a774bba2b37",
   "metadata": {},
   "outputs": [
    {
     "data": {
      "text/html": [
       "TRUE"
      ],
      "text/latex": [
       "TRUE"
      ],
      "text/markdown": [
       "TRUE"
      ],
      "text/plain": [
       "[1] TRUE"
      ]
     },
     "metadata": {},
     "output_type": "display_data"
    }
   ],
   "source": [
    "x == 10"
   ]
  },
  {
   "cell_type": "code",
   "execution_count": 5,
   "id": "747fe516-42c9-4375-aa14-29f534924b16",
   "metadata": {},
   "outputs": [
    {
     "data": {
      "text/html": [
       "TRUE"
      ],
      "text/latex": [
       "TRUE"
      ],
      "text/markdown": [
       "TRUE"
      ],
      "text/plain": [
       "[1] TRUE"
      ]
     },
     "metadata": {},
     "output_type": "display_data"
    },
    {
     "data": {
      "text/html": [
       "FALSE"
      ],
      "text/latex": [
       "FALSE"
      ],
      "text/markdown": [
       "FALSE"
      ],
      "text/plain": [
       "[1] FALSE"
      ]
     },
     "metadata": {},
     "output_type": "display_data"
    },
    {
     "data": {
      "text/html": [
       "TRUE"
      ],
      "text/latex": [
       "TRUE"
      ],
      "text/markdown": [
       "TRUE"
      ],
      "text/plain": [
       "[1] TRUE"
      ]
     },
     "metadata": {},
     "output_type": "display_data"
    },
    {
     "data": {
      "text/html": [
       "FALSE"
      ],
      "text/latex": [
       "FALSE"
      ],
      "text/markdown": [
       "FALSE"
      ],
      "text/plain": [
       "[1] FALSE"
      ]
     },
     "metadata": {},
     "output_type": "display_data"
    }
   ],
   "source": [
    "x > 05\n",
    "\n",
    "x < 5\n",
    "10 %in% x\n",
    "2 %in% x"
   ]
  },
  {
   "cell_type": "markdown",
   "id": "fd804b42-0b61-4cb9-8ce1-c9e667b5ac7f",
   "metadata": {},
   "source": [
    "<p> <strong>  4. Vectores en R </strong> <p>"
   ]
  },
  {
   "cell_type": "code",
   "execution_count": 6,
   "id": "9d3e6c4b-0b4b-42be-a484-ebd7922d99af",
   "metadata": {},
   "outputs": [],
   "source": [
    "z = c(1,2,3,4,5)"
   ]
  },
  {
   "cell_type": "markdown",
   "id": "33ca154d-a616-497b-8988-1b79c01d764b",
   "metadata": {},
   "source": [
    "<p> <strong>  5. Trabajemos con listados </strong> <p>"
   ]
  },
  {
   "cell_type": "code",
   "execution_count": 7,
   "id": "2b0f3474-4670-4a8c-8a0f-ccbdcce06c95",
   "metadata": {},
   "outputs": [
    {
     "data": {
      "text/html": [
       "<dl>\n",
       "\t<dt>$x</dt>\n",
       "\t\t<dd><style>\n",
       ".list-inline {list-style: none; margin:0; padding: 0}\n",
       ".list-inline>li {display: inline-block}\n",
       ".list-inline>li:not(:last-child)::after {content: \"\\00b7\"; padding: 0 .5ex}\n",
       "</style>\n",
       "<ol class=list-inline><li>1</li><li>2</li><li>3</li><li>4</li><li>5</li></ol>\n",
       "</dd>\n",
       "\t<dt>$y</dt>\n",
       "\t\t<dd><style>\n",
       ".list-inline {list-style: none; margin:0; padding: 0}\n",
       ".list-inline>li {display: inline-block}\n",
       ".list-inline>li:not(:last-child)::after {content: \"\\00b7\"; padding: 0 .5ex}\n",
       "</style>\n",
       "<ol class=list-inline><li>'a'</li><li>'b'</li></ol>\n",
       "</dd>\n",
       "</dl>\n"
      ],
      "text/latex": [
       "\\begin{description}\n",
       "\\item[\\$x] \\begin{enumerate*}\n",
       "\\item 1\n",
       "\\item 2\n",
       "\\item 3\n",
       "\\item 4\n",
       "\\item 5\n",
       "\\end{enumerate*}\n",
       "\n",
       "\\item[\\$y] \\begin{enumerate*}\n",
       "\\item 'a'\n",
       "\\item 'b'\n",
       "\\end{enumerate*}\n",
       "\n",
       "\\end{description}\n"
      ],
      "text/markdown": [
       "$x\n",
       ":   1. 1\n",
       "2. 2\n",
       "3. 3\n",
       "4. 4\n",
       "5. 5\n",
       "\n",
       "\n",
       "\n",
       "$y\n",
       ":   1. 'a'\n",
       "2. 'b'\n",
       "\n",
       "\n",
       "\n",
       "\n",
       "\n"
      ],
      "text/plain": [
       "$x\n",
       "[1] 1 2 3 4 5\n",
       "\n",
       "$y\n",
       "[1] \"a\" \"b\"\n"
      ]
     },
     "metadata": {},
     "output_type": "display_data"
    },
    {
     "data": {
      "text/html": [
       "<style>\n",
       ".list-inline {list-style: none; margin:0; padding: 0}\n",
       ".list-inline>li {display: inline-block}\n",
       ".list-inline>li:not(:last-child)::after {content: \"\\00b7\"; padding: 0 .5ex}\n",
       "</style>\n",
       "<ol class=list-inline><li>1</li><li>2</li><li>3</li><li>4</li><li>5</li></ol>\n"
      ],
      "text/latex": [
       "\\begin{enumerate*}\n",
       "\\item 1\n",
       "\\item 2\n",
       "\\item 3\n",
       "\\item 4\n",
       "\\item 5\n",
       "\\end{enumerate*}\n"
      ],
      "text/markdown": [
       "1. 1\n",
       "2. 2\n",
       "3. 3\n",
       "4. 4\n",
       "5. 5\n",
       "\n",
       "\n"
      ],
      "text/plain": [
       "[1] 1 2 3 4 5"
      ]
     },
     "metadata": {},
     "output_type": "display_data"
    },
    {
     "data": {
      "text/html": [
       "<style>\n",
       ".list-inline {list-style: none; margin:0; padding: 0}\n",
       ".list-inline>li {display: inline-block}\n",
       ".list-inline>li:not(:last-child)::after {content: \"\\00b7\"; padding: 0 .5ex}\n",
       "</style>\n",
       "<ol class=list-inline><li>'a'</li><li>'b'</li></ol>\n"
      ],
      "text/latex": [
       "\\begin{enumerate*}\n",
       "\\item 'a'\n",
       "\\item 'b'\n",
       "\\end{enumerate*}\n"
      ],
      "text/markdown": [
       "1. 'a'\n",
       "2. 'b'\n",
       "\n",
       "\n"
      ],
      "text/plain": [
       "[1] \"a\" \"b\""
      ]
     },
     "metadata": {},
     "output_type": "display_data"
    }
   ],
   "source": [
    "l <- list(x = 1:5, y = c('a', 'b'))\n",
    "l\n",
    "l$x\n",
    "l$y"
   ]
  },
  {
   "cell_type": "markdown",
   "id": "0dd11cfa-680b-4600-89be-103fa715bc4e",
   "metadata": {},
   "source": [
    "<p> <strong>  6. Vamos a trabajar con algo mas real </strong> <p>"
   ]
  },
  {
   "cell_type": "markdown",
   "id": "84eb6aa4-673d-4727-9545-9aac6a940ddf",
   "metadata": {},
   "source": [
    "<p> <strong> Podemos asignar a un objeto llamado <code> dir </code> la dirección de mis lecturas <strong> <p>"
   ]
  },
  {
   "cell_type": "code",
   "execution_count": 8,
   "id": "19b62bae-6be8-4c94-a7ab-d625f6c289c6",
   "metadata": {},
   "outputs": [],
   "source": [
    "dir = \"/home/jovyan/databases/coursera/python/data/\""
   ]
  },
  {
   "cell_type": "markdown",
   "id": "e90c815f-a057-4295-8f85-6ec3e0384173",
   "metadata": {},
   "source": [
    "<p> Ahora vanos a usar la herramienta incluida en R <code>file.path  </code><p>\n",
    "Pueden consultar todas las funciones de <code>file.path() </code> usando la funcion <code> ?? y ? </code> de R"
   ]
  },
  {
   "cell_type": "code",
   "execution_count": 9,
   "id": "f73090e4-18fa-4118-a352-8ba66e17a739",
   "metadata": {},
   "outputs": [
    {
     "data": {
      "text/html": [
       "'/home/jovyan/databases/coursera/python/data/'"
      ],
      "text/latex": [
       "'/home/jovyan/databases/coursera/python/data/'"
      ],
      "text/markdown": [
       "'/home/jovyan/databases/coursera/python/data/'"
      ],
      "text/plain": [
       "[1] \"/home/jovyan/databases/coursera/python/data/\""
      ]
     },
     "metadata": {},
     "output_type": "display_data"
    }
   ],
   "source": [
    "path<- file.path(dir)\n",
    "path"
   ]
  },
  {
   "cell_type": "markdown",
   "id": "ab9f4093-4232-4946-ad72-4aebee56efc9",
   "metadata": {},
   "source": [
    "<p> Ahora listemos todos los archivos que son fastq.gz ubicados en el directorio de trabajo: <p>\n",
    "<p> Para esto utilizaremosla funcion <code> list.files() </code>"
   ]
  },
  {
   "cell_type": "markdown",
   "id": "931e2cc8-e361-4c2b-8e00-c0097d87cdf0",
   "metadata": {},
   "source": [
    "<hr/>\n",
    "<div class=\"alert alert-block alert-info\" style=\"margin-top: 10px\"> \n",
    "  <font size=\"4\"> <strong> <p>Ahora utilicemos unos loops con el formato de R</p> </strong> </font>\n",
    "</div>\n",
    "<hr/>"
   ]
  },
  {
   "cell_type": "code",
   "execution_count": 10,
   "id": "b4fdedd1-a3e0-42db-97fb-4f5d8bbe76e4",
   "metadata": {},
   "outputs": [
    {
     "name": "stdout",
     "output_type": "stream",
     "text": [
      "[1] \"-r1 /home/jovyan/databases/coursera/python/data//Undetermined_S0_L001_R1_001.fastq.gz\"\n",
      "[1] \"-r1 /home/jovyan/databases/coursera/python/data//VEE24H_S10_L001_R1_001.fastq.gz\"\n"
     ]
    }
   ],
   "source": [
    "files <- list.files(path=path, pattern=\"*R1\",full.names = T)\n",
    "for( i in files){\n",
    "    print(paste(\"-r1\" ,i))\n",
    "}"
   ]
  },
  {
   "cell_type": "markdown",
   "id": "1b76a23d-3a20-4f3e-88c8-d9fab19b0755",
   "metadata": {},
   "source": [
    "<div style=\"margin-top: 15px\"> \n",
    "\n",
    "<strong> Si usted quisiera crear una entrada para spades que requiere que se señale el R1 con <code> -1  </code> y el R2 con <code> -2 </code> ¿Cómo generaria esa salida en un loop de python? </strong>\n",
    "</div>"
   ]
  },
  {
   "cell_type": "markdown",
   "id": "6217c83c-b17b-47a7-979f-a7fd156ba104",
   "metadata": {},
   "source": [
    "<hr/>\n",
    "<div class=\"alert alert-success alertsuccess\" style=\"margin-top: 20px\">\n",
    "    [Tip:] <code>paste()</code> es una función, que permite pegar diferentes textos en una sola salida <code>-1</code> como un texto entre comillas y separados por comas, cada texto u objeto que se quiere agregar.\n",
    "</div>\n",
    "<hr/>"
   ]
  },
  {
   "cell_type": "markdown",
   "id": "63217f29-f9d0-41d1-a75b-99d6da5be4c8",
   "metadata": {},
   "source": [
    "## Introducción a análisis de datos ##"
   ]
  },
  {
   "cell_type": "markdown",
   "id": "f80c8669-e0cf-4963-8925-02f2df62d1cc",
   "metadata": {},
   "source": [
    "<p> Tanto python como R son lenguajes enfocados en análisis de datos. Para nuestro interés bioinformático estos <strong> datos </strong>\n",
    "<p> generalmente son las salidas obtenidas de los análisis de programas especializados como blast, samtools, vcf entre otros <p>"
   ]
  },
  {
   "cell_type": "markdown",
   "id": "68f56f77-4bfe-48eb-a033-43ce2fd810e9",
   "metadata": {},
   "source": [
    "### Ejemplo: En un análisis de Herramienta básica de búsqueda de alineación local (BLAST) produce generalmente una salida como la siguiente:\n",
    "\n",
    "\n",
    "<a align=\"center\">\n",
    "    <img src=\"https://i.ibb.co/VNxsVLG/blastejemplo.png\" width=800\">\n",
    "</a>\n",
    "                                               \n",
    "                                           \n"
   ]
  },
  {
   "cell_type": "markdown",
   "id": "391a29e2-612c-4aa8-a3d1-edc47a972d8d",
   "metadata": {},
   "source": [
    "Se trata de una tabla delimitada por tabulaciones con uin listado de ID, número de accesos (GenBank) y otras estadisticas relevante\n",
    "                                             <p> <strong> ¿Cómo podemos convertir esta información en algo más gráfico? </strong> <p>"
   ]
  },
  {
   "cell_type": "markdown",
   "id": "4d5c9b84-3d7b-4c15-865d-d3f035ae23f7",
   "metadata": {},
   "source": [
    "<hr/>\n",
    "<div class=\"alert alert-success alertsuccess\" style=\"margin-top: 20px\">\n",
    "    [Cargar paquetes:] <code>  library(\"paquete a instalar\") </code> \n",
    "    Esta es la forma en como hacemos disponibles paquetes instalados en el ambiente de R para ser usados en el análisis ejemplos de estos son el universo <strong>tidyverse</strong> , y algunos de sus constituyentes como lo son  <strong> ggplot2 </strong> y <strong> dplyr </strong> hay otros ejemplos de paquetes como  <strong> plotly </strong> que brindan mejor integración con python y otras formas más viztosas de presentar resultados como en dashboards. Para una mejor descripción de cada uno de los paquetes siga los siguientes enlaces:\n",
    "</div>\n",
    "\n",
    "### tidyverse\n",
    "\n",
    "<a href=\"https://www.tidyverse.org/\" target=\"_blank\">https://www.tidyverse.org/</a>\n",
    "\n",
    "### ggplot2\n",
    "\n",
    "<a href=\"https://ggplot2.tidyverse.org/\" target=\"_blank\">https://ggplot2.tidyverse.org/</a>\n",
    "\n",
    "### plotly\n",
    "\n",
    "<a href=\"https://plotly.com/\" target=\"_blank\">https://plotly.com/</a>\n",
    "\n",
    "\n",
    "<hr/>"
   ]
  },
  {
   "cell_type": "code",
   "execution_count": 11,
   "id": "61f3853f-6e1b-4d19-9de7-3624a6699581",
   "metadata": {},
   "outputs": [
    {
     "name": "stderr",
     "output_type": "stream",
     "text": [
      "\n",
      "Attaching package: ‘dplyr’\n",
      "\n",
      "\n",
      "The following objects are masked from ‘package:stats’:\n",
      "\n",
      "    filter, lag\n",
      "\n",
      "\n",
      "The following objects are masked from ‘package:base’:\n",
      "\n",
      "    intersect, setdiff, setequal, union\n",
      "\n",
      "\n"
     ]
    }
   ],
   "source": [
    "#### Cargamos las librerias ###########\n",
    "library(\"dplyr\", \"ggplot2\")"
   ]
  },
  {
   "cell_type": "code",
   "execution_count": 12,
   "id": "9fcb6729-4fd3-4ad0-9f6a-181130d0d4cb",
   "metadata": {},
   "outputs": [
    {
     "name": "stdout",
     "output_type": "stream",
     "text": [
      "[1] dplyr          package loaded\n",
      "[1] ggplot2        package loaded\n",
      "[1] #########All packages were loaded##########\n",
      "[1] <<<<<<<Analysis could be started>>>>>>>\n"
     ]
    }
   ],
   "source": [
    "pkglist <- c( \"dplyr\",\"ggplot2\")\n",
    "\n",
    "for(i in pkglist){\n",
    "  if(i %in% rownames(installed.packages()) == FALSE){\n",
    "    suppressMessages(install.packages(i, verbose = FALSE))\n",
    "    suppressMessages(library(i, verbose = FALSE, character.only = TRUE))\n",
    "    a= c(i, \"package installed and loaded\")\n",
    "    print(a, quote = FALSE)\n",
    "  }else{\n",
    "    suppressMessages(library(i, verbose = FALSE, character.only = TRUE))\n",
    "    x= c(i,\"package loaded\")\n",
    "    print(x, quote = FALSE)\n",
    "  }\n",
    "}\n",
    "messages<-c(\"#########All packages were loaded##########\", \"<<<<<<<Analysis could be started>>>>>>>\")\n",
    "for (i in messages){\n",
    "    print(i, quote = FALSE)\n",
    "}"
   ]
  },
  {
   "cell_type": "code",
   "execution_count": 13,
   "id": "0022f5e0-ab2f-4434-91ed-11408c3c828f",
   "metadata": {},
   "outputs": [],
   "source": [
    "#### importamos el dataset #############\n",
    "\n",
    "data <- read.delim2(\"./RINO2_blast_hits.tsv\")"
   ]
  },
  {
   "cell_type": "code",
   "execution_count": 14,
   "id": "256d461f-34af-401e-adef-d429d90f20ba",
   "metadata": {},
   "outputs": [
    {
     "data": {
      "text/html": [
       "<table class=\"dataframe\">\n",
       "<caption>A data.frame: 6 × 8</caption>\n",
       "<thead>\n",
       "\t<tr><th></th><th scope=col>qseqid</th><th scope=col>sacc</th><th scope=col>pident</th><th scope=col>length</th><th scope=col>mismatch</th><th scope=col>evalue</th><th scope=col>bitscore</th><th scope=col>stitle</th></tr>\n",
       "\t<tr><th></th><th scope=col>&lt;chr&gt;</th><th scope=col>&lt;chr&gt;</th><th scope=col>&lt;chr&gt;</th><th scope=col>&lt;int&gt;</th><th scope=col>&lt;int&gt;</th><th scope=col>&lt;chr&gt;</th><th scope=col>&lt;chr&gt;</th><th scope=col>&lt;chr&gt;</th></tr>\n",
       "</thead>\n",
       "<tbody>\n",
       "\t<tr><th scope=row>1</th><td>NODE_1_length_2122_cov_17.810526</td><td>KM209255</td><td>85.363</td><td>1995</td><td>251</td><td>0.0      </td><td>2028</td><td>Dickeya phage phiDP10.3 clone pD10.contig.26_1 genomic sequence</td></tr>\n",
       "\t<tr><th scope=row>2</th><td>NODE_2_length_1428_cov_22.654881</td><td>KM209255</td><td>86.067</td><td>1012</td><td>123</td><td>0.0      </td><td>1072</td><td>Dickeya phage phiDP10.3 clone pD10.contig.26_1 genomic sequence</td></tr>\n",
       "\t<tr><th scope=row>3</th><td>NODE_2_length_1428_cov_22.654881</td><td>KM209255</td><td>82.123</td><td> 537</td><td> 84</td><td>1.29e-121</td><td>449 </td><td>Dickeya phage phiDP10.3 clone pD10.contig.26_1 genomic sequence</td></tr>\n",
       "\t<tr><th scope=row>4</th><td>NODE_2_length_1428_cov_22.654881</td><td>KM209255</td><td>95.522</td><td>  67</td><td>  3</td><td>8.94e-19 </td><td>108 </td><td>Dickeya phage phiDP10.3 clone pD10.contig.26_1 genomic sequence</td></tr>\n",
       "\t<tr><th scope=row>5</th><td>NODE_3_length_1140_cov_4.167818 </td><td>KY369890</td><td>97.975</td><td>1136</td><td> 23</td><td>0.0      </td><td>1971</td><td>Rhinovirus A47 strain SC122, complete genome                   </td></tr>\n",
       "\t<tr><th scope=row>6</th><td>NODE_4_length_1025_cov_3.996659 </td><td>KY369890</td><td>96.976</td><td>1025</td><td> 31</td><td>0.0      </td><td>1722</td><td>Rhinovirus A47 strain SC122, complete genome                   </td></tr>\n",
       "</tbody>\n",
       "</table>\n"
      ],
      "text/latex": [
       "A data.frame: 6 × 8\n",
       "\\begin{tabular}{r|llllllll}\n",
       "  & qseqid & sacc & pident & length & mismatch & evalue & bitscore & stitle\\\\\n",
       "  & <chr> & <chr> & <chr> & <int> & <int> & <chr> & <chr> & <chr>\\\\\n",
       "\\hline\n",
       "\t1 & NODE\\_1\\_length\\_2122\\_cov\\_17.810526 & KM209255 & 85.363 & 1995 & 251 & 0.0       & 2028 & Dickeya phage phiDP10.3 clone pD10.contig.26\\_1 genomic sequence\\\\\n",
       "\t2 & NODE\\_2\\_length\\_1428\\_cov\\_22.654881 & KM209255 & 86.067 & 1012 & 123 & 0.0       & 1072 & Dickeya phage phiDP10.3 clone pD10.contig.26\\_1 genomic sequence\\\\\n",
       "\t3 & NODE\\_2\\_length\\_1428\\_cov\\_22.654881 & KM209255 & 82.123 &  537 &  84 & 1.29e-121 & 449  & Dickeya phage phiDP10.3 clone pD10.contig.26\\_1 genomic sequence\\\\\n",
       "\t4 & NODE\\_2\\_length\\_1428\\_cov\\_22.654881 & KM209255 & 95.522 &   67 &   3 & 8.94e-19  & 108  & Dickeya phage phiDP10.3 clone pD10.contig.26\\_1 genomic sequence\\\\\n",
       "\t5 & NODE\\_3\\_length\\_1140\\_cov\\_4.167818  & KY369890 & 97.975 & 1136 &  23 & 0.0       & 1971 & Rhinovirus A47 strain SC122, complete genome                   \\\\\n",
       "\t6 & NODE\\_4\\_length\\_1025\\_cov\\_3.996659  & KY369890 & 96.976 & 1025 &  31 & 0.0       & 1722 & Rhinovirus A47 strain SC122, complete genome                   \\\\\n",
       "\\end{tabular}\n"
      ],
      "text/markdown": [
       "\n",
       "A data.frame: 6 × 8\n",
       "\n",
       "| <!--/--> | qseqid &lt;chr&gt; | sacc &lt;chr&gt; | pident &lt;chr&gt; | length &lt;int&gt; | mismatch &lt;int&gt; | evalue &lt;chr&gt; | bitscore &lt;chr&gt; | stitle &lt;chr&gt; |\n",
       "|---|---|---|---|---|---|---|---|---|\n",
       "| 1 | NODE_1_length_2122_cov_17.810526 | KM209255 | 85.363 | 1995 | 251 | 0.0       | 2028 | Dickeya phage phiDP10.3 clone pD10.contig.26_1 genomic sequence |\n",
       "| 2 | NODE_2_length_1428_cov_22.654881 | KM209255 | 86.067 | 1012 | 123 | 0.0       | 1072 | Dickeya phage phiDP10.3 clone pD10.contig.26_1 genomic sequence |\n",
       "| 3 | NODE_2_length_1428_cov_22.654881 | KM209255 | 82.123 |  537 |  84 | 1.29e-121 | 449  | Dickeya phage phiDP10.3 clone pD10.contig.26_1 genomic sequence |\n",
       "| 4 | NODE_2_length_1428_cov_22.654881 | KM209255 | 95.522 |   67 |   3 | 8.94e-19  | 108  | Dickeya phage phiDP10.3 clone pD10.contig.26_1 genomic sequence |\n",
       "| 5 | NODE_3_length_1140_cov_4.167818  | KY369890 | 97.975 | 1136 |  23 | 0.0       | 1971 | Rhinovirus A47 strain SC122, complete genome                    |\n",
       "| 6 | NODE_4_length_1025_cov_3.996659  | KY369890 | 96.976 | 1025 |  31 | 0.0       | 1722 | Rhinovirus A47 strain SC122, complete genome                    |\n",
       "\n"
      ],
      "text/plain": [
       "  qseqid                           sacc     pident length mismatch evalue   \n",
       "1 NODE_1_length_2122_cov_17.810526 KM209255 85.363 1995   251      0.0      \n",
       "2 NODE_2_length_1428_cov_22.654881 KM209255 86.067 1012   123      0.0      \n",
       "3 NODE_2_length_1428_cov_22.654881 KM209255 82.123  537    84      1.29e-121\n",
       "4 NODE_2_length_1428_cov_22.654881 KM209255 95.522   67     3      8.94e-19 \n",
       "5 NODE_3_length_1140_cov_4.167818  KY369890 97.975 1136    23      0.0      \n",
       "6 NODE_4_length_1025_cov_3.996659  KY369890 96.976 1025    31      0.0      \n",
       "  bitscore stitle                                                         \n",
       "1 2028     Dickeya phage phiDP10.3 clone pD10.contig.26_1 genomic sequence\n",
       "2 1072     Dickeya phage phiDP10.3 clone pD10.contig.26_1 genomic sequence\n",
       "3 449      Dickeya phage phiDP10.3 clone pD10.contig.26_1 genomic sequence\n",
       "4 108      Dickeya phage phiDP10.3 clone pD10.contig.26_1 genomic sequence\n",
       "5 1971     Rhinovirus A47 strain SC122, complete genome                   \n",
       "6 1722     Rhinovirus A47 strain SC122, complete genome                   "
      ]
     },
     "metadata": {},
     "output_type": "display_data"
    }
   ],
   "source": [
    "head(data)"
   ]
  },
  {
   "cell_type": "code",
   "execution_count": 15,
   "id": "57b03f58-2866-44d1-8826-5084649d3617",
   "metadata": {},
   "outputs": [
    {
     "data": {
      "image/png": "[encoded data removed]",
      "text/plain": [
       "plot without title"
      ]
     },
     "metadata": {
      "image/png": {
       "height": 420,
       "width": 420
      }
     },
     "output_type": "display_data"
    }
   ],
   "source": [
    "data %>%\n",
    "#filter(as.numeric(pident)> 98, as.numeric(length)> 100) %>%\n",
    "ggplot(aes(x=stitle)) +\n",
    "geom_bar() +\n",
    "theme(axis.text.x = element_text(angle = 90, vjust = 0.5, hjust=1))"
   ]
  },
  {
   "cell_type": "code",
   "execution_count": 16,
   "id": "3f2bfa20-c3c1-4a49-b991-8d7d8d776384",
   "metadata": {},
   "outputs": [
    {
     "data": {
      "text/html": [
       "<table class=\"dataframe\">\n",
       "<caption>A data.frame: 11 × 8</caption>\n",
       "<thead>\n",
       "\t<tr><th scope=col>qseqid</th><th scope=col>sacc</th><th scope=col>pident</th><th scope=col>length</th><th scope=col>mismatch</th><th scope=col>evalue</th><th scope=col>bitscore</th><th scope=col>stitle</th></tr>\n",
       "\t<tr><th scope=col>&lt;chr&gt;</th><th scope=col>&lt;chr&gt;</th><th scope=col>&lt;chr&gt;</th><th scope=col>&lt;int&gt;</th><th scope=col>&lt;int&gt;</th><th scope=col>&lt;chr&gt;</th><th scope=col>&lt;chr&gt;</th><th scope=col>&lt;chr&gt;</th></tr>\n",
       "</thead>\n",
       "<tbody>\n",
       "\t<tr><td>NODE_3_length_1140_cov_4.167818</td><td>KY369890</td><td>97.975</td><td>1136</td><td>23</td><td>0.0</td><td>1971</td><td>Rhinovirus A47 strain SC122, complete genome                   </td></tr>\n",
       "\t<tr><td>NODE_4_length_1025_cov_3.996659</td><td>KY369890</td><td>96.976</td><td>1025</td><td>31</td><td>0.0</td><td>1722</td><td>Rhinovirus A47 strain SC122, complete genome                   </td></tr>\n",
       "\t<tr><td>NODE_5_length_1013_cov_2.940181</td><td>KY369890</td><td>98.182</td><td> 935</td><td>17</td><td>0.0</td><td>1633</td><td>Rhinovirus A47 strain SC122, complete genome                   </td></tr>\n",
       "\t<tr><td>NODE_6_length_880_cov_2.354582 </td><td>KY369890</td><td>97.159</td><td> 880</td><td>25</td><td>0.0</td><td>1487</td><td>Rhinovirus A47 strain SC122, complete genome                   </td></tr>\n",
       "\t<tr><td>NODE_8_length_727_cov_0.541667 </td><td>MT947439</td><td>96.881</td><td> 481</td><td>15</td><td>0.0</td><td>806 </td><td>Protaetiibacter phage SSC1, complete genome                    </td></tr>\n",
       "\t<tr><td>NODE_11_length_608_cov_1.968815</td><td>KY369890</td><td>98.191</td><td> 608</td><td>11</td><td>0.0</td><td>1062</td><td>Rhinovirus A47 strain SC122, complete genome                   </td></tr>\n",
       "\t<tr><td>NODE_12_length_584_cov_1.929978</td><td>OP561375</td><td>98.438</td><td> 576</td><td> 9</td><td>0.0</td><td>1014</td><td>Rhinovirus A isolate SA20180389 VP1 gene, partial cds          </td></tr>\n",
       "\t<tr><td>NODE_15_length_526_cov_3.110276</td><td>KY369890</td><td>98.092</td><td> 524</td><td>10</td><td>0.0</td><td>913 </td><td>Rhinovirus A47 strain SC122, complete genome                   </td></tr>\n",
       "\t<tr><td>NODE_16_length_484_cov_2.053221</td><td>KM209277</td><td>95.011</td><td> 461</td><td>23</td><td>0.0</td><td>725 </td><td>Dickeya phage phiDP23.1 clone pD23.contig.3_1 genomic sequence </td></tr>\n",
       "\t<tr><td>NODE_24_length_428_cov_1.860465</td><td>KM209255</td><td>95.338</td><td> 429</td><td>16</td><td>0.0</td><td>678 </td><td>Dickeya phage phiDP10.3 clone pD10.contig.26_1 genomic sequence</td></tr>\n",
       "\t<tr><td>NODE_25_length_417_cov_0.734483</td><td>MT947439</td><td>98.082</td><td> 417</td><td> 8</td><td>0.0</td><td>726 </td><td>Protaetiibacter phage SSC1, complete genome                    </td></tr>\n",
       "</tbody>\n",
       "</table>\n"
      ],
      "text/latex": [
       "A data.frame: 11 × 8\n",
       "\\begin{tabular}{llllllll}\n",
       " qseqid & sacc & pident & length & mismatch & evalue & bitscore & stitle\\\\\n",
       " <chr> & <chr> & <chr> & <int> & <int> & <chr> & <chr> & <chr>\\\\\n",
       "\\hline\n",
       "\t NODE\\_3\\_length\\_1140\\_cov\\_4.167818 & KY369890 & 97.975 & 1136 & 23 & 0.0 & 1971 & Rhinovirus A47 strain SC122, complete genome                   \\\\\n",
       "\t NODE\\_4\\_length\\_1025\\_cov\\_3.996659 & KY369890 & 96.976 & 1025 & 31 & 0.0 & 1722 & Rhinovirus A47 strain SC122, complete genome                   \\\\\n",
       "\t NODE\\_5\\_length\\_1013\\_cov\\_2.940181 & KY369890 & 98.182 &  935 & 17 & 0.0 & 1633 & Rhinovirus A47 strain SC122, complete genome                   \\\\\n",
       "\t NODE\\_6\\_length\\_880\\_cov\\_2.354582  & KY369890 & 97.159 &  880 & 25 & 0.0 & 1487 & Rhinovirus A47 strain SC122, complete genome                   \\\\\n",
       "\t NODE\\_8\\_length\\_727\\_cov\\_0.541667  & MT947439 & 96.881 &  481 & 15 & 0.0 & 806  & Protaetiibacter phage SSC1, complete genome                    \\\\\n",
       "\t NODE\\_11\\_length\\_608\\_cov\\_1.968815 & KY369890 & 98.191 &  608 & 11 & 0.0 & 1062 & Rhinovirus A47 strain SC122, complete genome                   \\\\\n",
       "\t NODE\\_12\\_length\\_584\\_cov\\_1.929978 & OP561375 & 98.438 &  576 &  9 & 0.0 & 1014 & Rhinovirus A isolate SA20180389 VP1 gene, partial cds          \\\\\n",
       "\t NODE\\_15\\_length\\_526\\_cov\\_3.110276 & KY369890 & 98.092 &  524 & 10 & 0.0 & 913  & Rhinovirus A47 strain SC122, complete genome                   \\\\\n",
       "\t NODE\\_16\\_length\\_484\\_cov\\_2.053221 & KM209277 & 95.011 &  461 & 23 & 0.0 & 725  & Dickeya phage phiDP23.1 clone pD23.contig.3\\_1 genomic sequence \\\\\n",
       "\t NODE\\_24\\_length\\_428\\_cov\\_1.860465 & KM209255 & 95.338 &  429 & 16 & 0.0 & 678  & Dickeya phage phiDP10.3 clone pD10.contig.26\\_1 genomic sequence\\\\\n",
       "\t NODE\\_25\\_length\\_417\\_cov\\_0.734483 & MT947439 & 98.082 &  417 &  8 & 0.0 & 726  & Protaetiibacter phage SSC1, complete genome                    \\\\\n",
       "\\end{tabular}\n"
      ],
      "text/markdown": [
       "\n",
       "A data.frame: 11 × 8\n",
       "\n",
       "| qseqid &lt;chr&gt; | sacc &lt;chr&gt; | pident &lt;chr&gt; | length &lt;int&gt; | mismatch &lt;int&gt; | evalue &lt;chr&gt; | bitscore &lt;chr&gt; | stitle &lt;chr&gt; |\n",
       "|---|---|---|---|---|---|---|---|\n",
       "| NODE_3_length_1140_cov_4.167818 | KY369890 | 97.975 | 1136 | 23 | 0.0 | 1971 | Rhinovirus A47 strain SC122, complete genome                    |\n",
       "| NODE_4_length_1025_cov_3.996659 | KY369890 | 96.976 | 1025 | 31 | 0.0 | 1722 | Rhinovirus A47 strain SC122, complete genome                    |\n",
       "| NODE_5_length_1013_cov_2.940181 | KY369890 | 98.182 |  935 | 17 | 0.0 | 1633 | Rhinovirus A47 strain SC122, complete genome                    |\n",
       "| NODE_6_length_880_cov_2.354582  | KY369890 | 97.159 |  880 | 25 | 0.0 | 1487 | Rhinovirus A47 strain SC122, complete genome                    |\n",
       "| NODE_8_length_727_cov_0.541667  | MT947439 | 96.881 |  481 | 15 | 0.0 | 806  | Protaetiibacter phage SSC1, complete genome                     |\n",
       "| NODE_11_length_608_cov_1.968815 | KY369890 | 98.191 |  608 | 11 | 0.0 | 1062 | Rhinovirus A47 strain SC122, complete genome                    |\n",
       "| NODE_12_length_584_cov_1.929978 | OP561375 | 98.438 |  576 |  9 | 0.0 | 1014 | Rhinovirus A isolate SA20180389 VP1 gene, partial cds           |\n",
       "| NODE_15_length_526_cov_3.110276 | KY369890 | 98.092 |  524 | 10 | 0.0 | 913  | Rhinovirus A47 strain SC122, complete genome                    |\n",
       "| NODE_16_length_484_cov_2.053221 | KM209277 | 95.011 |  461 | 23 | 0.0 | 725  | Dickeya phage phiDP23.1 clone pD23.contig.3_1 genomic sequence  |\n",
       "| NODE_24_length_428_cov_1.860465 | KM209255 | 95.338 |  429 | 16 | 0.0 | 678  | Dickeya phage phiDP10.3 clone pD10.contig.26_1 genomic sequence |\n",
       "| NODE_25_length_417_cov_0.734483 | MT947439 | 98.082 |  417 |  8 | 0.0 | 726  | Protaetiibacter phage SSC1, complete genome                     |\n",
       "\n"
      ],
      "text/plain": [
       "   qseqid                          sacc     pident length mismatch evalue\n",
       "1  NODE_3_length_1140_cov_4.167818 KY369890 97.975 1136   23       0.0   \n",
       "2  NODE_4_length_1025_cov_3.996659 KY369890 96.976 1025   31       0.0   \n",
       "3  NODE_5_length_1013_cov_2.940181 KY369890 98.182  935   17       0.0   \n",
       "4  NODE_6_length_880_cov_2.354582  KY369890 97.159  880   25       0.0   \n",
       "5  NODE_8_length_727_cov_0.541667  MT947439 96.881  481   15       0.0   \n",
       "6  NODE_11_length_608_cov_1.968815 KY369890 98.191  608   11       0.0   \n",
       "7  NODE_12_length_584_cov_1.929978 OP561375 98.438  576    9       0.0   \n",
       "8  NODE_15_length_526_cov_3.110276 KY369890 98.092  524   10       0.0   \n",
       "9  NODE_16_length_484_cov_2.053221 KM209277 95.011  461   23       0.0   \n",
       "10 NODE_24_length_428_cov_1.860465 KM209255 95.338  429   16       0.0   \n",
       "11 NODE_25_length_417_cov_0.734483 MT947439 98.082  417    8       0.0   \n",
       "   bitscore stitle                                                         \n",
       "1  1971     Rhinovirus A47 strain SC122, complete genome                   \n",
       "2  1722     Rhinovirus A47 strain SC122, complete genome                   \n",
       "3  1633     Rhinovirus A47 strain SC122, complete genome                   \n",
       "4  1487     Rhinovirus A47 strain SC122, complete genome                   \n",
       "5  806      Protaetiibacter phage SSC1, complete genome                    \n",
       "6  1062     Rhinovirus A47 strain SC122, complete genome                   \n",
       "7  1014     Rhinovirus A isolate SA20180389 VP1 gene, partial cds          \n",
       "8  913      Rhinovirus A47 strain SC122, complete genome                   \n",
       "9  725      Dickeya phage phiDP23.1 clone pD23.contig.3_1 genomic sequence \n",
       "10 678      Dickeya phage phiDP10.3 clone pD10.contig.26_1 genomic sequence\n",
       "11 726      Protaetiibacter phage SSC1, complete genome                    "
      ]
     },
     "metadata": {},
     "output_type": "display_data"
    }
   ],
   "source": [
    "data %>%\n",
    "filter(as.numeric(pident)> 92, as.numeric(length)> 100)"
   ]
  },
  {
   "cell_type": "code",
   "execution_count": 17,
   "id": "c827e1b7-b42d-47ca-b51f-4d81d17a4909",
   "metadata": {},
   "outputs": [
    {
     "data": {
      "image/png": "[encoded data removed]",
      "text/plain": [
       "plot without title"
      ]
     },
     "metadata": {
      "image/png": {
       "height": 420,
       "width": 420
      }
     },
     "output_type": "display_data"
    }
   ],
   "source": [
    "data %>%\n",
    "ggplot(aes(x=stitle, y=as.numeric(pident))) +\n",
    "geom_boxplot() +\n",
    "theme(axis.text.x = element_text(angle = 90, vjust = 0.5, hjust=1))"
   ]
  },
  {
   "cell_type": "markdown",
   "id": "d1ea1f20-a635-4bad-8547-80f67f6633db",
   "metadata": {},
   "source": [
    "<div class=\"alert alert-block alert-info\"> \n",
    "<b>Actividades de autoaprendizaje en R</b> <p>Para estas actividades le invitamos a ubicar una gráfica de su preferencia dentro del catálogo de: </p><a href=\"https://www.data-to-viz.com/ \" target=\"_blank\">https://www.data-to-viz.com/ </a>\n",
    "    <p> Especificamente el catálogo de ejemplo de gráficas para python está en el siguiente enlace: <p> <a href=\"https://python-graph-gallery.com/ \" target=\"_blank\">https://python-graph-gallery.com/ </a> </p></p>\n",
    "</div>\n",
    "\n",
    "<b> Una vez ubicada una (o varias) gráfica de su preferencia intente ejecutarla su notebook, revise que tipo de data necesita y como podría adecuarse a sus intereses. </b>\n",
    "<p> También dentro de sus archivos va a encontrar una tabla con datos generados en una corrida reciente de NGS, como podría generar una gráfica de covertura con python? </p>\n",
    "<div class=\"alert alert-block alert-warning\">  <p>Tiene alguna tabla que desee graficar, cargela al servidor y explore las posibilidades. </p> </div>"
   ]
  },
  {
   "cell_type": "markdown",
   "id": "7eb58a0d-739f-4e69-9490-ac2f4335b711",
   "metadata": {},
   "source": [
    "## Author\n",
    "\n",
    "<a href=\"https://github.com/ICGESGenomica/ICGESGenomica\" target=\"_blank\">Alexander A. Martínez C</a>\n",
    "\n",
    "\n",
    "<font size=\"4\">  <strong> ICGES - Departamento de Investigación en Genómica y proteómica </strong> </font>\n",
    "\n",
    "<font size=\"4\" color = \"blue\" >  <strong> #Somosgenómica </strong> </font>\n",
    "\n",
    "## <h3 align=\"center\">  <h3/>\n"
   ]
  }
 ],
 "metadata": {
  "kernelspec": {
   "display_name": "R [conda env:root] *",
   "language": "R",
   "name": "conda-root-r"
  },
  "language_info": {
   "codemirror_mode": "r",
   "file_extension": ".r",
   "mimetype": "text/x-r-source",
   "name": "R",
   "pygments_lexer": "r",
   "version": "4.1.0"
  }
 },
 "nbformat": 4,
 "nbformat_minor": 5
}
